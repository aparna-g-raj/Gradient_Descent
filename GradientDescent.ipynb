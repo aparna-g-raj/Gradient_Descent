{
 "cells": [
  {
   "cell_type": "code",
   "execution_count": 2,
   "id": "f97944a0-2091-41dc-bd1b-1c545a5b769c",
   "metadata": {},
   "outputs": [
    {
     "name": "stdin",
     "output_type": "stream",
     "text": [
      "Enter the coefficient a (for x^3):  3\n",
      "Enter the coefficient b (for x^2):  4\n",
      "Enter the coefficient c (for x):  2\n",
      "Enter the constant term d:  2\n",
      "Enter the learning rate:  .01\n",
      "Enter the number of epochs (iterations):  100\n"
     ]
    },
    {
     "name": "stdout",
     "output_type": "stream",
     "text": [
      "\n",
      "The equation is: 3.0x^3 + 4.0x^2 + 2.0x + 2.0 = 0\n",
      "Solution for x = -1.0744\n"
     ]
    }
   ],
   "source": [
    "import numpy as np\n",
    "\n",
    "def gradient_descent(a, b, c, d, learning_rate=0.01, epochs=1000):\n",
    "    x = np.random.rand()\n",
    "    for _ in range(epochs):\n",
    "        fx = a*x**3 + b*x**2 + c*x + d\n",
    "        dfx = 3*a*x**2 + 2*b*x + c\n",
    "        x = x - learning_rate * fx / dfx\n",
    "    return x\n",
    "\n",
    "try:\n",
    "    a = float(input(\"Enter the coefficient a (for x^3): \"))\n",
    "    b = float(input(\"Enter the coefficient b (for x^2): \"))\n",
    "    c = float(input(\"Enter the coefficient c (for x): \"))\n",
    "    d = float(input(\"Enter the constant term d: \"))\n",
    "    learning_rate = float(input(\"Enter the learning rate: \"))\n",
    "    epochs = int(input(\"Enter the number of epochs (iterations): \"))\n",
    "\n",
    "    root = gradient_descent(a, b, c, d, learning_rate, epochs)\n",
    "\n",
    "    print(f\"\\nThe equation is: {a}x^3 + {b}x^2 + {c}x + {d} = 0\")\n",
    "    print(f\"Solution for x = {root:.4f}\")\n",
    "\n",
    "except ValueError:\n",
    "    print(\"Please enter valid numerical values.\")"
   ]
  },
  {
   "cell_type": "code",
   "execution_count": null,
   "id": "4ae08db6-5c30-484a-af08-52da32a5f89c",
   "metadata": {},
   "outputs": [],
   "source": []
  }
 ],
 "metadata": {
  "kernelspec": {
   "display_name": "Python 3 (ipykernel)",
   "language": "python",
   "name": "python3"
  },
  "language_info": {
   "codemirror_mode": {
    "name": "ipython",
    "version": 3
   },
   "file_extension": ".py",
   "mimetype": "text/x-python",
   "name": "python",
   "nbconvert_exporter": "python",
   "pygments_lexer": "ipython3",
   "version": "3.12.5"
  }
 },
 "nbformat": 4,
 "nbformat_minor": 5
}
